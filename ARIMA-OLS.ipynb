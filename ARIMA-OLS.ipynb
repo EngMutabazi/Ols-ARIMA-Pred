{
 "cells": [
  {
   "cell_type": "code",
   "execution_count": 1,
   "id": "155218cc",
   "metadata": {},
   "outputs": [],
   "source": [
    "import pandas as pd\n",
    "import numpy as np\n",
    "import matplotlib.pyplot as plt\n",
    "import seaborn as sns\n",
    "import warnings\n",
    "warnings.filterwarnings('ignore')"
   ]
  },
  {
   "cell_type": "code",
   "execution_count": 2,
   "id": "27919765",
   "metadata": {},
   "outputs": [
    {
     "data": {
      "text/html": [
       "<div>\n",
       "<style scoped>\n",
       "    .dataframe tbody tr th:only-of-type {\n",
       "        vertical-align: middle;\n",
       "    }\n",
       "\n",
       "    .dataframe tbody tr th {\n",
       "        vertical-align: top;\n",
       "    }\n",
       "\n",
       "    .dataframe thead th {\n",
       "        text-align: right;\n",
       "    }\n",
       "</style>\n",
       "<table border=\"1\" class=\"dataframe\">\n",
       "  <thead>\n",
       "    <tr style=\"text-align: right;\">\n",
       "      <th></th>\n",
       "      <th>Years</th>\n",
       "      <th>Green Leaf Production-Kg</th>\n",
       "      <th>pr</th>\n",
       "      <th>Temp</th>\n",
       "      <th>TeaProduction(T)</th>\n",
       "      <th>LOG_TEAPROD</th>\n",
       "      <th>LOG_PRE</th>\n",
       "    </tr>\n",
       "  </thead>\n",
       "  <tbody>\n",
       "    <tr>\n",
       "      <th>0</th>\n",
       "      <td>1990</td>\n",
       "      <td>54997892</td>\n",
       "      <td>1128.18</td>\n",
       "      <td>18.90</td>\n",
       "      <td>54997.892</td>\n",
       "      <td>4.740346</td>\n",
       "      <td>3.052378</td>\n",
       "    </tr>\n",
       "    <tr>\n",
       "      <th>1</th>\n",
       "      <td>1991</td>\n",
       "      <td>57427032</td>\n",
       "      <td>1131.68</td>\n",
       "      <td>18.88</td>\n",
       "      <td>57427.032</td>\n",
       "      <td>4.759116</td>\n",
       "      <td>3.053724</td>\n",
       "    </tr>\n",
       "    <tr>\n",
       "      <th>2</th>\n",
       "      <td>1992</td>\n",
       "      <td>57956886</td>\n",
       "      <td>1087.76</td>\n",
       "      <td>18.86</td>\n",
       "      <td>57956.886</td>\n",
       "      <td>4.763105</td>\n",
       "      <td>3.036533</td>\n",
       "    </tr>\n",
       "    <tr>\n",
       "      <th>3</th>\n",
       "      <td>1993</td>\n",
       "      <td>43811060</td>\n",
       "      <td>1075.82</td>\n",
       "      <td>18.84</td>\n",
       "      <td>43811.060</td>\n",
       "      <td>4.641584</td>\n",
       "      <td>3.031740</td>\n",
       "    </tr>\n",
       "    <tr>\n",
       "      <th>4</th>\n",
       "      <td>1994</td>\n",
       "      <td>18244961</td>\n",
       "      <td>1235.71</td>\n",
       "      <td>18.91</td>\n",
       "      <td>18244.961</td>\n",
       "      <td>4.261143</td>\n",
       "      <td>3.091917</td>\n",
       "    </tr>\n",
       "  </tbody>\n",
       "</table>\n",
       "</div>"
      ],
      "text/plain": [
       "   Years  Green Leaf Production-Kg       pr   Temp  TeaProduction(T)  \\\n",
       "0   1990                  54997892  1128.18  18.90         54997.892   \n",
       "1   1991                  57427032  1131.68  18.88         57427.032   \n",
       "2   1992                  57956886  1087.76  18.86         57956.886   \n",
       "3   1993                  43811060  1075.82  18.84         43811.060   \n",
       "4   1994                  18244961  1235.71  18.91         18244.961   \n",
       "\n",
       "   LOG_TEAPROD   LOG_PRE  \n",
       "0     4.740346  3.052378  \n",
       "1     4.759116  3.053724  \n",
       "2     4.763105  3.036533  \n",
       "3     4.641584  3.031740  \n",
       "4     4.261143  3.091917  "
      ]
     },
     "execution_count": 2,
     "metadata": {},
     "output_type": "execute_result"
    }
   ],
   "source": [
    "data= pd.read_excel('MODELINGNational 1990-2021 -COVERT.xls')\n",
    "# df = data.loc[:, ~data.columns.str.contains('^Unnamed')]\n",
    "data.head()"
   ]
  },
  {
   "cell_type": "markdown",
   "id": "d9600dab",
   "metadata": {},
   "source": [
    "# Descriptive Analysis section"
   ]
  },
  {
   "cell_type": "code",
   "execution_count": 3,
   "id": "f153b91b",
   "metadata": {},
   "outputs": [
    {
     "data": {
      "text/html": [
       "<div>\n",
       "<style scoped>\n",
       "    .dataframe tbody tr th:only-of-type {\n",
       "        vertical-align: middle;\n",
       "    }\n",
       "\n",
       "    .dataframe tbody tr th {\n",
       "        vertical-align: top;\n",
       "    }\n",
       "\n",
       "    .dataframe thead th {\n",
       "        text-align: right;\n",
       "    }\n",
       "</style>\n",
       "<table border=\"1\" class=\"dataframe\">\n",
       "  <thead>\n",
       "    <tr style=\"text-align: right;\">\n",
       "      <th></th>\n",
       "      <th>count</th>\n",
       "      <th>mean</th>\n",
       "      <th>std</th>\n",
       "      <th>min</th>\n",
       "      <th>25%</th>\n",
       "      <th>50%</th>\n",
       "      <th>75%</th>\n",
       "      <th>max</th>\n",
       "    </tr>\n",
       "  </thead>\n",
       "  <tbody>\n",
       "    <tr>\n",
       "      <th>Years</th>\n",
       "      <td>32.0</td>\n",
       "      <td>2.005500e+03</td>\n",
       "      <td>9.380832e+00</td>\n",
       "      <td>1.990000e+03</td>\n",
       "      <td>1.997750e+03</td>\n",
       "      <td>2.005500e+03</td>\n",
       "      <td>2.013250e+03</td>\n",
       "      <td>2.021000e+03</td>\n",
       "    </tr>\n",
       "    <tr>\n",
       "      <th>Green Leaf Production-Kg</th>\n",
       "      <td>32.0</td>\n",
       "      <td>8.105713e+07</td>\n",
       "      <td>3.230774e+07</td>\n",
       "      <td>1.824496e+07</td>\n",
       "      <td>5.835435e+07</td>\n",
       "      <td>7.538535e+07</td>\n",
       "      <td>1.029939e+08</td>\n",
       "      <td>1.496273e+08</td>\n",
       "    </tr>\n",
       "    <tr>\n",
       "      <th>pr</th>\n",
       "      <td>32.0</td>\n",
       "      <td>1.188045e+03</td>\n",
       "      <td>1.208278e+02</td>\n",
       "      <td>8.536100e+02</td>\n",
       "      <td>1.121485e+03</td>\n",
       "      <td>1.206585e+03</td>\n",
       "      <td>1.241570e+03</td>\n",
       "      <td>1.393130e+03</td>\n",
       "    </tr>\n",
       "    <tr>\n",
       "      <th>Temp</th>\n",
       "      <td>32.0</td>\n",
       "      <td>1.919500e+01</td>\n",
       "      <td>2.306932e-01</td>\n",
       "      <td>1.884000e+01</td>\n",
       "      <td>1.905000e+01</td>\n",
       "      <td>1.917500e+01</td>\n",
       "      <td>1.933750e+01</td>\n",
       "      <td>1.964000e+01</td>\n",
       "    </tr>\n",
       "    <tr>\n",
       "      <th>TeaProduction(T)</th>\n",
       "      <td>32.0</td>\n",
       "      <td>8.105713e+04</td>\n",
       "      <td>3.230774e+04</td>\n",
       "      <td>1.824496e+04</td>\n",
       "      <td>5.835435e+04</td>\n",
       "      <td>7.538535e+04</td>\n",
       "      <td>1.029939e+05</td>\n",
       "      <td>1.496273e+05</td>\n",
       "    </tr>\n",
       "    <tr>\n",
       "      <th>LOG_TEAPROD</th>\n",
       "      <td>32.0</td>\n",
       "      <td>4.868839e+00</td>\n",
       "      <td>2.033295e-01</td>\n",
       "      <td>4.261143e+00</td>\n",
       "      <td>4.766070e+00</td>\n",
       "      <td>4.877071e+00</td>\n",
       "      <td>5.012787e+00</td>\n",
       "      <td>5.175011e+00</td>\n",
       "    </tr>\n",
       "    <tr>\n",
       "      <th>LOG_PRE</th>\n",
       "      <td>32.0</td>\n",
       "      <td>3.072555e+00</td>\n",
       "      <td>4.579342e-02</td>\n",
       "      <td>2.931259e+00</td>\n",
       "      <td>3.049770e+00</td>\n",
       "      <td>3.081550e+00</td>\n",
       "      <td>3.093971e+00</td>\n",
       "      <td>3.143992e+00</td>\n",
       "    </tr>\n",
       "  </tbody>\n",
       "</table>\n",
       "</div>"
      ],
      "text/plain": [
       "                          count          mean           std           min  \\\n",
       "Years                      32.0  2.005500e+03  9.380832e+00  1.990000e+03   \n",
       "Green Leaf Production-Kg   32.0  8.105713e+07  3.230774e+07  1.824496e+07   \n",
       "pr                         32.0  1.188045e+03  1.208278e+02  8.536100e+02   \n",
       "Temp                       32.0  1.919500e+01  2.306932e-01  1.884000e+01   \n",
       "TeaProduction(T)           32.0  8.105713e+04  3.230774e+04  1.824496e+04   \n",
       "LOG_TEAPROD                32.0  4.868839e+00  2.033295e-01  4.261143e+00   \n",
       "LOG_PRE                    32.0  3.072555e+00  4.579342e-02  2.931259e+00   \n",
       "\n",
       "                                   25%           50%           75%  \\\n",
       "Years                     1.997750e+03  2.005500e+03  2.013250e+03   \n",
       "Green Leaf Production-Kg  5.835435e+07  7.538535e+07  1.029939e+08   \n",
       "pr                        1.121485e+03  1.206585e+03  1.241570e+03   \n",
       "Temp                      1.905000e+01  1.917500e+01  1.933750e+01   \n",
       "TeaProduction(T)          5.835435e+04  7.538535e+04  1.029939e+05   \n",
       "LOG_TEAPROD               4.766070e+00  4.877071e+00  5.012787e+00   \n",
       "LOG_PRE                   3.049770e+00  3.081550e+00  3.093971e+00   \n",
       "\n",
       "                                   max  \n",
       "Years                     2.021000e+03  \n",
       "Green Leaf Production-Kg  1.496273e+08  \n",
       "pr                        1.393130e+03  \n",
       "Temp                      1.964000e+01  \n",
       "TeaProduction(T)          1.496273e+05  \n",
       "LOG_TEAPROD               5.175011e+00  \n",
       "LOG_PRE                   3.143992e+00  "
      ]
     },
     "execution_count": 3,
     "metadata": {},
     "output_type": "execute_result"
    }
   ],
   "source": [
    "data.describe().T"
   ]
  },
  {
   "cell_type": "markdown",
   "id": "37c3f7e8",
   "metadata": {},
   "source": [
    "# Time series visualization Section"
   ]
  },
  {
   "cell_type": "code",
   "execution_count": null,
   "id": "5d337528",
   "metadata": {},
   "outputs": [],
   "source": [
    "sns.set(rc={'figure.figsize':(15,5)})\n",
    "plt.title(\"Variation of Tea production\")\n",
    "sns.lineplot(x=\"Years\",y=\"TeaProduction(T)\",data=data,color=\"darkGreen\", marker='o')\n",
    "plt.show()"
   ]
  },
  {
   "cell_type": "code",
   "execution_count": null,
   "id": "c957ff6c",
   "metadata": {},
   "outputs": [],
   "source": [
    "sns.set(rc={'figure.figsize':(15,5)})\n",
    "plt.title(\"Variation of Precipitation\")\n",
    "sns.lineplot(x=\"Years\",y=\"pr\",data=data,color=\"b\", marker=\"*\")\n",
    "plt.show()"
   ]
  },
  {
   "cell_type": "code",
   "execution_count": null,
   "id": "16eca19d",
   "metadata": {},
   "outputs": [],
   "source": [
    "sns.set(rc={'figure.figsize':(15,5)})\n",
    "plt.title(\"Variation of Temperature\")\n",
    "sns.lineplot(x=\"Years\",y=\"Temp\",data=data,color=\"red\", marker= \".\")\n",
    "plt.show()"
   ]
  },
  {
   "cell_type": "markdown",
   "id": "45c8b64a",
   "metadata": {},
   "source": [
    "# Correlation Analysis"
   ]
  },
  {
   "cell_type": "code",
   "execution_count": null,
   "id": "31a3a836",
   "metadata": {},
   "outputs": [],
   "source": [
    "sns.lmplot(data=data,x='pr',y='TeaProduction(T)',  ci = None)\n",
    "plt.title('Tea production vs Precipitation')\n",
    "plt.show()"
   ]
  },
  {
   "cell_type": "code",
   "execution_count": null,
   "id": "bd59101f",
   "metadata": {},
   "outputs": [],
   "source": [
    "data['TeaProduction(T)'].corr(data['pr'])"
   ]
  },
  {
   "cell_type": "code",
   "execution_count": null,
   "id": "03c10b70",
   "metadata": {},
   "outputs": [],
   "source": [
    "sns.lmplot(data=data,x='Temp',y='TeaProduction(T)', ci=None)\n",
    "plt.title('Tea production vs Temperature')\n",
    "plt.show()"
   ]
  },
  {
   "cell_type": "code",
   "execution_count": null,
   "id": "e943776e",
   "metadata": {},
   "outputs": [],
   "source": [
    "data['TeaProduction(T)'].corr(data['Temp'])"
   ]
  },
  {
   "cell_type": "code",
   "execution_count": null,
   "id": "a555b9a6",
   "metadata": {},
   "outputs": [],
   "source": [
    "data1=data[['Years','Temp','LOG_TEAPROD','LOG_PRE']]"
   ]
  },
  {
   "cell_type": "code",
   "execution_count": null,
   "id": "7477bc1a",
   "metadata": {},
   "outputs": [],
   "source": [
    "data1.head()"
   ]
  },
  {
   "cell_type": "code",
   "execution_count": null,
   "id": "8cc45fa5",
   "metadata": {},
   "outputs": [],
   "source": [
    "# acf,pacf plot for all variables \n",
    "# from pylab import rcParams\n",
    "# from statsmodels.graphics.tsaplots import plot_acf\n",
    "# rcParams['figure.figsize'] = 8,4\n",
    "\n",
    "# for variable in data1.columns:\n",
    "#     plot_acf(data1[variable], lags = 30, title = 'ACF of ' + variable)"
   ]
  },
  {
   "cell_type": "markdown",
   "id": "61c9b3b5",
   "metadata": {},
   "source": [
    "# Modeling section"
   ]
  },
  {
   "cell_type": "code",
   "execution_count": null,
   "id": "7ae654af",
   "metadata": {},
   "outputs": [],
   "source": [
    "data1.columns"
   ]
  },
  {
   "cell_type": "code",
   "execution_count": null,
   "id": "23674bb1",
   "metadata": {},
   "outputs": [],
   "source": [
    "from sklearn.linear_model import LinearRegression\n",
    "from sklearn.metrics import r2_score\n",
    "from sklearn.model_selection import train_test_split\n",
    "from sklearn.metrics import classification_report, confusion_matrix, accuracy_score\n",
    "import statsmodels.api as sm\n",
    "import statsmodels.formula.api as smf\n",
    "from sklearn import datasets, linear_model\n",
    "from sklearn.metrics import mean_squared_error, mean_absolute_error\n",
    "from statsmodels.tsa.arima.model import ARIMA"
   ]
  },
  {
   "cell_type": "markdown",
   "id": "357d8f2d",
   "metadata": {},
   "source": [
    "# ARIMA"
   ]
  },
  {
   "cell_type": "code",
   "execution_count": null,
   "id": "985902c9",
   "metadata": {},
   "outputs": [],
   "source": [
    "arima_results = ARIMA(data1[\"LOG_TEAPROD\"], data1[[\"Temp\",\"LOG_PRE\",]], order=(2,0,3)).fit()\n",
    "print(arima_results.summary())"
   ]
  },
  {
   "cell_type": "markdown",
   "id": "9b34c5bb",
   "metadata": {},
   "source": [
    "# OLS"
   ]
  },
  {
   "cell_type": "code",
   "execution_count": null,
   "id": "f9b513a3",
   "metadata": {},
   "outputs": [],
   "source": [
    "model = smf.ols(formula='LOG_TEAPROD ~ Temp + LOG_PRE', data=data1)\n",
    "res = model.fit()\n",
    "print(res.summary())"
   ]
  },
  {
   "cell_type": "code",
   "execution_count": null,
   "id": "212a1eae",
   "metadata": {},
   "outputs": [],
   "source": []
  },
  {
   "cell_type": "code",
   "execution_count": null,
   "id": "52213ef4",
   "metadata": {},
   "outputs": [],
   "source": [
    "res.resid.plot(kind=\"kde\")"
   ]
  },
  {
   "cell_type": "markdown",
   "id": "8caee476",
   "metadata": {},
   "source": [
    "# Comparing ARIMA and OLS"
   ]
  },
  {
   "cell_type": "code",
   "execution_count": null,
   "id": "a61ad414",
   "metadata": {},
   "outputs": [],
   "source": [
    "import scipy as sp\n",
    "from statsmodels.graphics.gofplots import qqplot\n",
    "fig, (ax1, ax2) = plt.subplots(1,2, figsize=(16,8))\n",
    "sm.qqplot(res.resid, sp.stats.t, fit=True, line=\"45\", ax=ax1);\n",
    "ax1.set_title(\"OLS qqplot\");\n",
    "sm.qqplot(arima_results.resid, sp.stats.t, fit=True, line=\"45\", ax=ax2);\n",
    "ax2.set_title(\"ARIMA qqplot\");\n",
    "plt.show();"
   ]
  },
  {
   "cell_type": "code",
   "execution_count": null,
   "id": "ddf6b6c6",
   "metadata": {},
   "outputs": [],
   "source": [
    "# data1.columns"
   ]
  },
  {
   "cell_type": "code",
   "execution_count": null,
   "id": "ba54171f",
   "metadata": {},
   "outputs": [],
   "source": [
    "# np.correlate(data1['LOG_TEAPROD'],data1['Temp'] ) "
   ]
  },
  {
   "cell_type": "code",
   "execution_count": null,
   "id": "4878d70d",
   "metadata": {},
   "outputs": [],
   "source": [
    "# import statsmodels.api as sm\n",
    "# #calculate cross correlation\n",
    "# sm.tsa.stattools.ccf(data1['LOG_TEAPROD'], data1['Temp'], adjusted=False)\n"
   ]
  },
  {
   "cell_type": "code",
   "execution_count": null,
   "id": "74c87e11",
   "metadata": {},
   "outputs": [],
   "source": [
    "# import statsmodels.api as sm\n",
    "# #calculate cross correlation\n",
    "# sm.tsa.stattools.ccf(data1['LOG_TEAPROD'], data1['LOG_PRE'], adjusted=False)"
   ]
  },
  {
   "cell_type": "code",
   "execution_count": null,
   "id": "c5b76bf8",
   "metadata": {},
   "outputs": [],
   "source": []
  }
 ],
 "metadata": {
  "kernelspec": {
   "display_name": "Python 3 (ipykernel)",
   "language": "python",
   "name": "python3"
  },
  "language_info": {
   "codemirror_mode": {
    "name": "ipython",
    "version": 3
   },
   "file_extension": ".py",
   "mimetype": "text/x-python",
   "name": "python",
   "nbconvert_exporter": "python",
   "pygments_lexer": "ipython3",
   "version": "3.9.13"
  }
 },
 "nbformat": 4,
 "nbformat_minor": 5
}
